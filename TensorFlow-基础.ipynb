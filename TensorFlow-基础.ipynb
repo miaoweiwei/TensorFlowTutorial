{
 "cells": [
  {
   "cell_type": "markdown",
   "metadata": {},
   "source": [
    "# TensorFlow 基础"
   ]
  },
  {
   "cell_type": "code",
   "execution_count": 2,
   "metadata": {},
   "outputs": [],
   "source": [
    "import tensorflow as tf\n",
    "import numpy as np"
   ]
  },
  {
   "cell_type": "code",
   "execution_count": 3,
   "metadata": {},
   "outputs": [
    {
     "name": "stdout",
     "output_type": "stream",
     "text": [
      "b'Hello World!'\n",
      "1.13.1\n"
     ]
    }
   ],
   "source": [
    "# 创建一个常量运算，将作为一个节点加入到默认计算图中\n",
    "hello=tf.constant(\"Hello World!\")\n",
    "\n",
    "#创建一个TF对话\n",
    "sess=tf.Session()\n",
    "\n",
    "#运行并获取结果\n",
    "print(sess.run(hello))\n",
    "print(tf.__version__)"
   ]
  },
  {
   "cell_type": "code",
   "execution_count": 4,
   "metadata": {},
   "outputs": [],
   "source": [
    "#一个简单计算图\n",
    "node1=tf.constant(3.0,tf.float32,name=\"node1\")\n",
    "node2=tf.constant(4.0,tf.float32,name=\"node2\")\n",
    "node3=tf.add(node1,node2)"
   ]
  },
  {
   "cell_type": "code",
   "execution_count": 5,
   "metadata": {},
   "outputs": [
    {
     "name": "stdout",
     "output_type": "stream",
     "text": [
      "Tensor(\"Add:0\", shape=(), dtype=float32)\n"
     ]
    }
   ],
   "source": [
    "print(node3)\n",
    "#Tensor是一个张量"
   ]
  },
  {
   "cell_type": "code",
   "execution_count": null,
   "metadata": {},
   "outputs": [],
   "source": [
    "print(node1)"
   ]
  },
  {
   "cell_type": "code",
   "execution_count": null,
   "metadata": {},
   "outputs": [],
   "source": [
    "print(node2)"
   ]
  },
  {
   "cell_type": "code",
   "execution_count": null,
   "metadata": {},
   "outputs": [],
   "source": [
    "#建立对话并显示运行结果\n",
    "sess = tf.Session()\n",
    "print(\"运行sess.run(node1)的结果：\",sess.run(node1))\n",
    "print(\"运行sess.run(node1)的结果：\",sess.run(node2))"
   ]
  },
  {
   "cell_type": "code",
   "execution_count": null,
   "metadata": {},
   "outputs": [],
   "source": [
    "# 更新变量并返回计算结果\n",
    "\n",
    "print(\"运行sess.run(node3)的结果：\",sess.run(node3))\n",
    "\n",
    "#关闭Session\n",
    "sess.close()"
   ]
  },
  {
   "cell_type": "code",
   "execution_count": null,
   "metadata": {
    "scrolled": true
   },
   "outputs": [],
   "source": [
    "sess.run(node3) # Session已经关闭，所以会出错"
   ]
  },
  {
   "cell_type": "code",
   "execution_count": null,
   "metadata": {},
   "outputs": [],
   "source": [
    "tens1=tf.constant([[[1,2,2],\n",
    "                    [2,2,3]],\n",
    "                   \n",
    "                   [[3,5,6],\n",
    "                    [5,4,3]],\n",
    "                   \n",
    "                   [[7,0,1],\n",
    "                    [9,1,9]],\n",
    "                   \n",
    "                   [[11,12,7],\n",
    "                    [1,3,14]]],name=\"tens1\")\n",
    "\n",
    "#语句中包含 [], {} 或() 括号中间换行的就不需要使用多行连接符\n",
    "print(tens1)\n",
    "with tf.Session() as sess:\n",
    "    print(sess.run(tens1))"
   ]
  },
  {
   "cell_type": "code",
   "execution_count": null,
   "metadata": {},
   "outputs": [],
   "source": [
    "scalar=tf.constant(100)\n",
    "vector=tf.constant([1,2,3,4,5])\n",
    "matrix=tf.constant([[1,2,3],[4,5,6]])\n",
    "cube_matrix = tf.constant([[[1],[2],[3]],[[4],[5],[6]],[[7],[8],[9]]])\n",
    "\n",
    "print(scalar.get_shape())\n",
    "print(vector.get_shape())\n",
    "print(matrix.get_shape())\n",
    "print(cube_matrix.get_shape())"
   ]
  },
  {
   "cell_type": "code",
   "execution_count": null,
   "metadata": {},
   "outputs": [],
   "source": [
    "tens1=tf.constant([[[1,2],[2,3]],[[3,4],[5,6]]])\n",
    "\n",
    "with tf.Session() as sess:\n",
    "    print(sess.run(tens1)[1,1,0])"
   ]
  },
  {
   "cell_type": "code",
   "execution_count": null,
   "metadata": {
    "scrolled": true
   },
   "outputs": [],
   "source": [
    "a=tf.constant([1,2],name=\"a\")\n",
    "b=tf.constant([2,3],name=\"b\")\n",
    "resoult = a + b #或者 resoult =tf.add(a,b)\n",
    "\n",
    "print(resoult)\n",
    "\n",
    "with tf.Session() as sess:\n",
    "    print(sess.run(a))\n",
    "    print(sess.run(b))"
   ]
  },
  {
   "cell_type": "code",
   "execution_count": null,
   "metadata": {},
   "outputs": [],
   "source": [
    "value = tf.Variable(0,name=\"value\")\n",
    "one = tf.constant(1)\n",
    "new_value = tf.add(value, one)\n",
    "update_value = tf.assign(value,new_value)\n",
    "\n",
    "init=tf.global_variables_initializer()\n",
    "\n",
    "with tf.Session() as sess:\n",
    "    sess.run(init)\n",
    "    for _ in range(10): \n",
    "        sess.run(update_value) # 运行一次 update_value value就更新一次\n",
    "        print(sess.run(value))"
   ]
  },
  {
   "cell_type": "markdown",
   "metadata": {},
   "source": [
    "# 计算图中的操作"
   ]
  },
  {
   "cell_type": "markdown",
   "metadata": {
    "heading_collapsed": true
   },
   "source": [
    "## 案例：在TensorBoard中查看图结构"
   ]
  },
  {
   "cell_type": "code",
   "execution_count": null,
   "metadata": {
    "hidden": true
   },
   "outputs": [],
   "source": [
    "#本例用到了TensorBoard，具体使用后面再说\n",
    "tf.reset_default_graph() #清除default graph和不断增加的节点\n",
    "\n",
    "#定义变量a  (variable 变量)\n",
    "a=tf.Variable(1,name=\"a\")\n",
    "#定义操作 b 为 a+1\n",
    "b=tf.add(a,1,name=\"b\")\n",
    "# 定义 c 为 b * 4\n",
    "c=tf.multiply(b, 4, name=\"c\" )\n",
    "# 定义 d 为 c-b\n",
    "d=tf.subtract(c ,b, name=\"d\")\n",
    "\n",
    "# Logdir 改为自己机器上的文件夹\n",
    "# logdir='D:\\Myproject\\Python\\jupyterNoteBook\\Log'\n",
    "logdir='.\\Log'\n",
    "\n",
    "#生成一个写日志的 writer,并将当前的 TensorFlow 计算图写入日志\n",
    "writer = tf.summary.FileWriter(logdir,tf.get_default_graph())\n",
    "writer.close()\n"
   ]
  },
  {
   "cell_type": "code",
   "execution_count": null,
   "metadata": {
    "hidden": true,
    "scrolled": true
   },
   "outputs": [],
   "source": [
    "import tensorflow as tf\n",
    "#清除default graph和不断增加的节点\n",
    "tf.reset_default_graph() \n",
    "\n",
    "# Logdir 改为自己机器上的文件夹\n",
    "logdir='.\\Log'\n",
    "\n",
    "#定义一个简易的计算图，实现向量加法的操作\n",
    "input1=tf.constant([1.0,2.0,3.0],name='input1')\n",
    "input2=tf.Variable(tf.random_uniform([3]),name=\"inpout2\")\n",
    "output=tf.add_n([input1,input2],name=\"add\")\n",
    "\n",
    "# init=tf.global_variables_initializer()\n",
    "# with tf.Session() as sess:\n",
    "#     sess.run(init)\n",
    "#     print(sess.run(output))\n",
    "\n",
    "#生成一个写日志的 writer， 并将当前的 TensorFlow计算图写日日志\n",
    "writer=tf.summary.FileWriter(logdir,tf.get_default_graph())\n",
    "writer.close()"
   ]
  },
  {
   "cell_type": "markdown",
   "metadata": {
    "heading_collapsed": true
   },
   "source": [
    "## 建立图、获取默认图、重置默认图"
   ]
  },
  {
   "cell_type": "code",
   "execution_count": null,
   "metadata": {
    "hidden": true
   },
   "outputs": [],
   "source": [
    "g = tf.Graph()# 创建新的图\n",
    "g1 = tf.get_default_graph() # 获取默认图\n",
    "tf.reset_default_graph() # 重置默认图"
   ]
  },
  {
   "cell_type": "code",
   "execution_count": null,
   "metadata": {
    "hidden": true
   },
   "outputs": [],
   "source": [
    "g=tf.Graph()# 创建新的图\n",
    "\n",
    "with g.as_default(): # 设置成默认的图\n",
    "    c1 = tf.constant(0.0) # 在图中添加变量\n",
    "    print(c1)\n",
    "    print(\"c1.graph:\",c1.graph) # 可通过变量的'.graph'可获得其所在的图"
   ]
  },
  {
   "cell_type": "code",
   "execution_count": null,
   "metadata": {
    "hidden": true
   },
   "outputs": [],
   "source": [
    "tf.reset_default_graph() # 重置默认图\n",
    "g2 = tf.get_default_graph() # 获取默认的图\n",
    "print('g2:',g2)"
   ]
  },
  {
   "cell_type": "markdown",
   "metadata": {
    "heading_collapsed": true
   },
   "source": [
    "## 获取张量的名字 get_tensor_by_name"
   ]
  },
  {
   "cell_type": "code",
   "execution_count": null,
   "metadata": {
    "hidden": true
   },
   "outputs": [],
   "source": [
    "# 先获取张量的名字\n",
    "print(c1.name)"
   ]
  },
  {
   "cell_type": "code",
   "execution_count": null,
   "metadata": {
    "hidden": true
   },
   "outputs": [],
   "source": [
    "# 然后将张量名字放到tf.Graph().get_tensor_by_name(name=\"\")中\n",
    "t = g.get_tensor_by_name(name=\"Const:0\")\n",
    "# 通过打印 t 验证 get_tensor_by_name 所获取的张量就是前面定义的张量 c1\n",
    "print(t)"
   ]
  },
  {
   "cell_type": "markdown",
   "metadata": {
    "heading_collapsed": true
   },
   "source": [
    "## 获取节点操作：get_operation_by_name\n",
    "\n",
    "获取节点操作的方法和获取张量的方法非常的类似，先将OP的名字打印出来，然后使用get_operation_by_name函数；\n",
    "下面将获取张量和获取节点操作的例子放在一起比较一下："
   ]
  },
  {
   "cell_type": "code",
   "execution_count": null,
   "metadata": {
    "hidden": true
   },
   "outputs": [],
   "source": [
    "a = tf.constant([[1.0,2.0]])\n",
    "b = tf.constant([[1.0],[2.0]])\n",
    "\n",
    "tensor1 = tf.matmul(a,b,name='example_op') # 矩阵的乘法\n",
    "print(tensor1)\n",
    "print(tensor1.name)"
   ]
  },
  {
   "cell_type": "code",
   "execution_count": null,
   "metadata": {
    "hidden": true
   },
   "outputs": [],
   "source": [
    "# 先将op的名字打印出来\n",
    "print(tensor1.op.name)"
   ]
  },
  {
   "cell_type": "code",
   "execution_count": null,
   "metadata": {
    "hidden": true,
    "scrolled": true
   },
   "outputs": [],
   "source": [
    "# 然后使用 get_operation_by_name 函数\n",
    "test_op = g2.get_operation_by_name(name=\"example_op\")\n",
    "print(test_op)"
   ]
  },
  {
   "cell_type": "markdown",
   "metadata": {
    "hidden": true
   },
   "source": [
    "op和张量在定义节点时很容易被混淆，上例中的tensor1 = tf.matmul(a,b,name=\"example_op\")并不是op，而是张量。"
   ]
  }
 ],
 "metadata": {
  "anaconda-cloud": {},
  "kernelspec": {
   "display_name": "Tf-Gpu",
   "language": "python",
   "name": "tfgpu"
  },
  "language_info": {
   "codemirror_mode": {
    "name": "ipython",
    "version": 3
   },
   "file_extension": ".py",
   "mimetype": "text/x-python",
   "name": "python",
   "nbconvert_exporter": "python",
   "pygments_lexer": "ipython3",
   "version": "3.6.8"
  }
 },
 "nbformat": 4,
 "nbformat_minor": 1
}
