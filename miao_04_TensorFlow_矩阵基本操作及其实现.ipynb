{
 "cells": [
  {
   "cell_type": "markdown",
   "metadata": {},
   "source": [
    "矩阵运算，例如执行乘法、加法和减法，是任何神经网络中信号传播的重要操作。通常在计算中需要随机矩阵、零矩阵、一矩阵或者单位矩阵。\n",
    "本节将告诉你如何获得不同类型的矩阵，以及如何对它们进行不同的矩阵处理操作。"
   ]
  },
  {
   "cell_type": "markdown",
   "metadata": {},
   "source": [
    "# 具体做法"
   ]
  },
  {
   "cell_type": "markdown",
   "metadata": {},
   "source": [
    "开始一个交互式会话，以便得到计算结果"
   ]
  },
  {
   "cell_type": "code",
   "execution_count": 1,
   "metadata": {},
   "outputs": [],
   "source": [
    "import tensorflow as tf"
   ]
  },
  {
   "cell_type": "code",
   "execution_count": 2,
   "metadata": {},
   "outputs": [],
   "source": [
    "# 定义一个交互式会话\n",
    "sess = tf.InteractiveSession()"
   ]
  },
  {
   "cell_type": "code",
   "execution_count": 3,
   "metadata": {},
   "outputs": [
    {
     "name": "stdout",
     "output_type": "stream",
     "text": [
      "[[1. 0. 0. 0. 0.]\n",
      " [0. 1. 0. 0. 0.]\n",
      " [0. 0. 1. 0. 0.]\n",
      " [0. 0. 0. 1. 0.]\n",
      " [0. 0. 0. 0. 1.]]\n"
     ]
    }
   ],
   "source": [
    "# 定义一个 5X5 的单位矩阵（Identity matrix）\n",
    "I_matrix = tf.eye(5)\n",
    "print(I_matrix.eval())"
   ]
  },
  {
   "cell_type": "code",
   "execution_count": 4,
   "metadata": {},
   "outputs": [
    {
     "name": "stdout",
     "output_type": "stream",
     "text": [
      "WARNING:tensorflow:From D:\\Anaconda3\\envs\\tensorflow\\lib\\site-packages\\tensorflow\\python\\framework\\op_def_library.py:263: colocate_with (from tensorflow.python.framework.ops) is deprecated and will be removed in a future version.\n",
      "Instructions for updating:\n",
      "Colocations handled automatically by placer.\n",
      "[[1. 0. 0. 0. 0. 0. 0. 0. 0. 0.]\n",
      " [0. 1. 0. 0. 0. 0. 0. 0. 0. 0.]\n",
      " [0. 0. 1. 0. 0. 0. 0. 0. 0. 0.]\n",
      " [0. 0. 0. 1. 0. 0. 0. 0. 0. 0.]\n",
      " [0. 0. 0. 0. 1. 0. 0. 0. 0. 0.]\n",
      " [0. 0. 0. 0. 0. 1. 0. 0. 0. 0.]\n",
      " [0. 0. 0. 0. 0. 0. 1. 0. 0. 0.]\n",
      " [0. 0. 0. 0. 0. 0. 0. 1. 0. 0.]\n",
      " [0. 0. 0. 0. 0. 0. 0. 0. 1. 0.]\n",
      " [0. 0. 0. 0. 0. 0. 0. 0. 0. 1.]]\n"
     ]
    }
   ],
   "source": [
    "# 定义一个变量初始化 10 X 10 的单位矩阵\n",
    "X = tf.Variable(tf.eye(10))\n",
    "X.initializer.run() # 初始化变量\n",
    "print(X.eval())"
   ]
  },
  {
   "cell_type": "code",
   "execution_count": 5,
   "metadata": {},
   "outputs": [],
   "source": [
    "# 创建一个 5 X 10 的矩阵 数值随机产生\n",
    "A = tf.Variable(tf.random_normal([5,10]))\n",
    "A.initializer.run()"
   ]
  },
  {
   "cell_type": "code",
   "execution_count": 6,
   "metadata": {},
   "outputs": [
    {
     "name": "stdout",
     "output_type": "stream",
     "text": [
      "[[-1.7562445  -1.2579206  -1.227558   -0.13973784 -1.3584545  -0.08482748\n",
      "   0.96668136  1.0502264   0.6847732  -0.69717294]\n",
      " [ 0.59302044 -0.34977388  0.44148666 -0.03140887 -2.027126   -2.0703988\n",
      "   1.0385708   0.74552906  0.85771763 -0.03630293]\n",
      " [-0.65610033 -1.0544987  -0.43789974  0.30394718  0.7904768   0.41085345\n",
      "  -0.20027894  0.5341104   1.4523803   0.09469876]\n",
      " [-0.02923389 -0.33870056  0.01225267 -1.0145562  -0.42859137  2.4296627\n",
      "   0.30368295 -0.43137777  0.73419815 -1.3190943 ]\n",
      " [ 1.6146436   0.49379188  0.5044419  -0.41588846 -0.7328848   0.23632082\n",
      "   1.4541899  -0.39804518 -0.9542143   0.10574745]]\n"
     ]
    }
   ],
   "source": [
    "# 两个矩阵相乘\n",
    "product = tf.matmul(A,X)\n",
    "print(product.eval())"
   ]
  },
  {
   "cell_type": "code",
   "execution_count": 8,
   "metadata": {},
   "outputs": [
    {
     "name": "stdout",
     "output_type": "stream",
     "text": [
      "[[0 0 0 0 1 0 1 1 1 0]\n",
      " [1 0 1 0 0 0 1 1 1 0]\n",
      " [1 1 1 0 1 1 0 0 0 1]\n",
      " [0 1 1 0 0 0 1 0 1 1]\n",
      " [0 1 0 0 1 0 0 1 1 0]]\n",
      "[[0. 0. 0. 0. 1. 0. 1. 1. 1. 0.]\n",
      " [1. 0. 1. 0. 0. 0. 1. 1. 1. 0.]\n",
      " [1. 1. 1. 0. 1. 1. 0. 0. 0. 1.]\n",
      " [0. 1. 1. 0. 0. 0. 1. 0. 1. 1.]\n",
      " [0. 1. 0. 0. 1. 0. 0. 1. 1. 0.]]\n"
     ]
    }
   ],
   "source": [
    "# 创建一个1和0的随机矩阵，大小为5x10\n",
    "b = tf.Variable(tf.random_uniform([5,10],0,2,dtype=tf.int32))\n",
    "b.initializer.run()\n",
    "print(b.eval())\n",
    "b_new = tf.cast(b,dtype=tf.float32) # 强制转换为float32数据类型\n",
    "print(b_new.eval())"
   ]
  },
  {
   "cell_type": "code",
   "execution_count": 10,
   "metadata": {},
   "outputs": [
    {
     "name": "stdout",
     "output_type": "stream",
     "text": [
      "A*X + b\n",
      " [[-1.7562445  -1.2579206  -1.227558   -0.13973784 -0.35845447 -0.08482748\n",
      "   1.9666814   2.0502264   1.6847732  -0.69717294]\n",
      " [ 1.5930204  -0.34977388  1.4414866  -0.03140887 -2.027126   -2.0703988\n",
      "   2.038571    1.745529    1.8577176  -0.03630293]\n",
      " [ 0.34389967 -0.05449867  0.5621003   0.30394718  1.7904768   1.4108534\n",
      "  -0.20027894  0.5341104   1.4523803   1.0946988 ]\n",
      " [-0.02923389  0.66129947  1.0122527  -1.0145562  -0.42859137  2.4296627\n",
      "   1.3036829  -0.43137777  1.7341981  -0.3190943 ]\n",
      " [ 1.6146436   1.4937918   0.5044419  -0.41588846  0.26711518  0.23632082\n",
      "   1.4541899   0.6019548   0.04578573  0.10574745]]\n",
      "A*X - b\n",
      " [[-1.7562445  -1.2579206  -1.227558   -0.13973784 -2.3584545  -0.08482748\n",
      "  -0.03331864  0.05022645 -0.3152268  -0.69717294]\n",
      " [-0.40697956 -0.34977388 -0.55851334 -0.03140887 -2.027126   -2.0703988\n",
      "   0.03857076 -0.25447094 -0.14228237 -0.03630293]\n",
      " [-1.6561003  -2.0544987  -1.4378997   0.30394718 -0.2095232  -0.58914655\n",
      "  -0.20027894  0.5341104   1.4523803  -0.9053012 ]\n",
      " [-0.02923389 -1.3387005  -0.9877473  -1.0145562  -0.42859137  2.4296627\n",
      "  -0.6963171  -0.43137777 -0.26580185 -2.3190942 ]\n",
      " [ 1.6146436  -0.5062081   0.5044419  -0.41588846 -1.7328849   0.23632082\n",
      "   1.4541899  -1.3980452  -1.9542143   0.10574745]]\n"
     ]
    }
   ],
   "source": [
    "# 两个矩阵相加\n",
    "t_sum = tf.add(product,b_new)\n",
    "t_sub = product - b_new\n",
    "print(\"A*X + b\\n\",t_sum.eval())\n",
    "print(\"A*X - b\\n\",t_sub.eval())"
   ]
  },
  {
   "cell_type": "markdown",
   "metadata": {},
   "source": [
    "一些其他有用的矩阵操作，如按元素相乘、乘以一个标量、按元素相除、按元素余数相除等，可以执行如下语句："
   ]
  },
  {
   "cell_type": "code",
   "execution_count": 11,
   "metadata": {},
   "outputs": [],
   "source": [
    "# 创建连个随机的矩阵\n",
    "a = tf.Variable(tf.random_normal([4,5],stddev=2))\n",
    "b = tf.Variable(tf.random_normal([4,5],stddev=2))"
   ]
  },
  {
   "cell_type": "markdown",
   "metadata": {},
   "source": [
    "按元素相乘"
   ]
  },
  {
   "cell_type": "code",
   "execution_count": 12,
   "metadata": {},
   "outputs": [],
   "source": [
    "A = a*b"
   ]
  },
  {
   "cell_type": "markdown",
   "metadata": {},
   "source": [
    "乘以标量2(multiplication with a scalar 2)"
   ]
  },
  {
   "cell_type": "code",
   "execution_count": 13,
   "metadata": {},
   "outputs": [],
   "source": [
    "B = tf.scalar_mul(2,A)"
   ]
  },
  {
   "cell_type": "markdown",
   "metadata": {},
   "source": [
    "按元素相除"
   ]
  },
  {
   "cell_type": "code",
   "execution_count": 14,
   "metadata": {},
   "outputs": [
    {
     "name": "stdout",
     "output_type": "stream",
     "text": [
      "WARNING:tensorflow:From <ipython-input-14-d374170e354e>:1: div (from tensorflow.python.ops.math_ops) is deprecated and will be removed in a future version.\n",
      "Instructions for updating:\n",
      "Deprecated in favor of operator or tf.math.divide.\n"
     ]
    }
   ],
   "source": [
    "C = tf.div(a,b) # tf.div 返回的张量的类型与第一个参数类型一致。"
   ]
  },
  {
   "cell_type": "markdown",
   "metadata": {},
   "source": [
    "按元素余数相除(按对应的位置的元素取余数)"
   ]
  },
  {
   "cell_type": "code",
   "execution_count": 16,
   "metadata": {},
   "outputs": [],
   "source": [
    "D = tf.mod(a,b)"
   ]
  },
  {
   "cell_type": "code",
   "execution_count": 17,
   "metadata": {},
   "outputs": [
    {
     "name": "stdout",
     "output_type": "stream",
     "text": [
      "a\n",
      " [[ 2.109432    1.3351588   1.8523835   2.6198235  -0.00651391]\n",
      " [-3.3333428  -1.2926564   3.3819215   1.5765857   0.7135894 ]\n",
      " [ 0.65029776  2.1612089   2.35223    -0.40238333 -2.4578614 ]\n",
      " [ 2.6196957  -0.5007441  -2.7259188   0.47895917  1.5141615 ]] b\n",
      " [[ 1.1803955   0.8255128  -1.4970315   1.4534935   3.2534344 ]\n",
      " [-1.0104425   0.91055655  1.5027902   0.3139164   0.24620976]\n",
      " [-1.1611841  -1.124029   -1.6266465   1.0697817   1.368517  ]\n",
      " [-1.371579   -0.2056276   0.6372065  -1.8175641  -0.3399816 ]] a*b\n",
      " [[ 2.489964    1.1021907  -2.7730763   3.8078964  -0.02119259]\n",
      " [ 3.3681512  -1.1770368   5.082319    0.49491608  0.17569266]\n",
      " [-0.7551154  -2.4292614  -3.826247   -0.4304623  -3.3636253 ]\n",
      " [-3.5931196   0.10296681 -1.7369732  -0.870539   -0.514787  ]] \n",
      "2*a*b\n",
      " [[ 4.979928    2.2043815  -5.5461526   7.6157928  -0.04238518]\n",
      " [ 6.7363024  -2.3540735  10.164638    0.98983216  0.35138533]\n",
      " [-1.5102308  -4.858523   -7.652494   -0.8609246  -6.7272506 ]\n",
      " [-7.1862392   0.20593362 -3.4739463  -1.741078   -1.029574  ]] \n",
      "a/b\n",
      " [[ 1.7870553e+00  1.6173689e+00 -1.2373711e+00  1.8024322e+00\n",
      "  -2.0021654e-03]\n",
      " [ 3.2988942e+00 -1.4196333e+00  2.2504282e+00  5.0223107e+00\n",
      "   2.8982985e+00]\n",
      " [-5.6002986e-01 -1.9227340e+00 -1.4460610e+00 -3.7613595e-01\n",
      "  -1.7960035e+00]\n",
      " [-1.9099852e+00  2.4351988e+00 -4.2779207e+00 -2.6351708e-01\n",
      "  -4.4536572e+00]] \n",
      "a%b\n",
      " [[ 0.9290365   0.509646   -1.1416794   1.16633     3.2469206 ]\n",
      " [-0.3020153   0.5284567   0.3763411   0.00700372  0.22116986]\n",
      " [-0.5108863  -0.08684921 -0.90106297  0.66739833  0.27917266]\n",
      " [-0.12346244 -0.08948889  0.4601137  -1.3386049  -0.18574646]]\n"
     ]
    }
   ],
   "source": [
    "init_op = tf.global_variables_initializer()\n",
    "with tf.Session() as sess:\n",
    "    sess.run(init_op)\n",
    "    writer = tf.summary.FileWriter('graphs',sess.graph)\n",
    "    a,b,A_R,B_R,C_R,D_R = sess.run([a,b,A,B,C,D])\n",
    "    print(\"a\\n\",a,\"b\\n\",b,\"a*b\\n\",A_R,\"\\n2*a*b\\n\",B_R,\"\\na/b\\n\",C_R,\"\\na%b\\n\",D_R)"
   ]
  },
  {
   "cell_type": "code",
   "execution_count": 18,
   "metadata": {},
   "outputs": [],
   "source": [
    "writer.close()"
   ]
  },
  {
   "cell_type": "markdown",
   "metadata": {},
   "source": [
    "## 解读分析\n",
    "所有加法、减、除、乘（按元素相乘）、取余等矩阵的算术运算都要求两个张量矩阵是相同的数据类型，否则就会产生错误。可以使用 tf.cast() 将张量从一种数据类型转换为另一种数据类型。"
   ]
  },
  {
   "cell_type": "markdown",
   "metadata": {},
   "source": [
    "## 拓展阅读\n",
    "如果在整数张量之间进行除法，最好使用 tf.truediv(a，b)，因为它首先将整数张量转换为浮点类，然后再执行按位相除。"
   ]
  }
 ],
 "metadata": {
  "kernelspec": {
   "display_name": "TensorFlow",
   "language": "python",
   "name": "tensorflow"
  },
  "language_info": {
   "codemirror_mode": {
    "name": "ipython",
    "version": 3
   },
   "file_extension": ".py",
   "mimetype": "text/x-python",
   "name": "python",
   "nbconvert_exporter": "python",
   "pygments_lexer": "ipython3",
   "version": "3.6.2"
  }
 },
 "nbformat": 4,
 "nbformat_minor": 2
}
