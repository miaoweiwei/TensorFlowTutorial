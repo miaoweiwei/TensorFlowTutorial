{
 "cells": [
  {
   "cell_type": "markdown",
   "metadata": {},
   "source": [
    "TensorFlow 支持 CPU 和 GPU。它也支持分布式计算。可以在一个或多个计算机系统的多个设备上使用 TensorFlow。\n",
    "\n",
    "TensorFlow 将支持的 CPU 设备命名为“/device：CPU：0”（或“/cpu：0”），第 i 个 GPU 设备命名为“/device：GPU：I”（或“/gpu：I”）。\n",
    "\n",
    "如前所述，GPU 比 CPU 要快得多，因为它们有许多小的内核。然而，在所有类型的计算中都使用 GPU 也并不一定都有速度上的优势。有时，比起使用 GPU 并行计算在速度上的优势收益，使用 GPU 的其他代价相对更为昂贵。\n",
    "\n",
    "为了解决这个问题，TensorFlow 可以选择将计算放在一个特定的设备上。默认情况下，如果 CPU 和 GPU 都存在，TensorFlow 会优先考虑 GPU。\n",
    "\n",
    "TensorFlow 将设备表示为字符串。本节展示如何在 TensorFlow 中指定某一设备用于矩阵乘法的计算。"
   ]
  },
  {
   "cell_type": "markdown",
   "metadata": {},
   "source": [
    "# 具体做法"
   ]
  },
  {
   "cell_type": "code",
   "execution_count": 1,
   "metadata": {},
   "outputs": [],
   "source": [
    "import tensorflow as tf"
   ]
  },
  {
   "cell_type": "markdown",
   "metadata": {},
   "source": [
    "1、要验证 TensorFlow 是否确实在使用指定的设备（CPU 或 GPU）可以创建会话，并将 log_device_placement 标志设置为 True，即："
   ]
  },
  {
   "cell_type": "code",
   "execution_count": 2,
   "metadata": {},
   "outputs": [],
   "source": [
    "config = tf.ConfigProto(log_device_placement=True)"
   ]
  },
  {
   "cell_type": "markdown",
   "metadata": {},
   "source": [
    "2、如果你不确定设备，并希望 TensorFlow 选择现有和受支持的设备，则可以将 allow_soft_placement 标志设置为 True："
   ]
  },
  {
   "cell_type": "code",
   "execution_count": 3,
   "metadata": {},
   "outputs": [],
   "source": [
    "config = tf.ConfigProto(allow_soft_placement=True,log_device_placement=True)"
   ]
  },
  {
   "cell_type": "markdown",
   "metadata": {},
   "source": [
    "3、手动选择 CPU 进行操作："
   ]
  },
  {
   "cell_type": "code",
   "execution_count": 4,
   "metadata": {
    "scrolled": true
   },
   "outputs": [
    {
     "name": "stdout",
     "output_type": "stream",
     "text": [
      "WARNING:tensorflow:From D:\\Anaconda3\\envs\\tfgpu\\lib\\site-packages\\tensorflow\\python\\framework\\op_def_library.py:263: colocate_with (from tensorflow.python.framework.ops) is deprecated and will be removed in a future version.\n",
      "Instructions for updating:\n",
      "Colocations handled automatically by placer.\n",
      "[[ 1449.85388184  1626.1751709   1421.05212402 ...,  1325.81970215\n",
      "   1649.21606445  1351.7434082 ]\n",
      " [ 1181.17590332  1334.8984375   1242.13842773 ...,  1164.77185059\n",
      "   1372.31433105  1023.44702148]\n",
      " [ 1379.08691406  1442.31420898  1418.13635254 ...,  1432.7623291\n",
      "   1523.3260498   1301.82641602]\n",
      " ..., \n",
      " [ 1373.33654785  1478.98583984  1334.28039551 ...,  1285.56225586\n",
      "   1374.23120117  1125.81274414]\n",
      " [ 1332.47875977  1423.56616211  1507.86206055 ...,  1280.78063965\n",
      "   1520.20788574  1213.62231445]\n",
      " [ 1400.01989746  1492.82287598  1466.52075195 ...,  1344.32324219\n",
      "   1631.2947998   1210.82836914]]\n"
     ]
    }
   ],
   "source": [
    "with tf.device('/cpu:0'):\n",
    "    rand_t = tf.random_uniform([50,50],0,10,dtype=tf.float32,seed=12)\n",
    "    a = tf.Variable(rand_t)\n",
    "    b = tf.Variable(rand_t)\n",
    "    c = tf.matmul(a,b)\n",
    "    init = tf.global_variables_initializer()\n",
    "\n",
    "sess = sess = tf.Session(config=config)\n",
    "sess.run(init)\n",
    "print(sess.run(c))\n",
    "sess.close()"
   ]
  },
  {
   "cell_type": "markdown",
   "metadata": {},
   "source": [
    "手动选择一个 GPU 来操作："
   ]
  },
  {
   "cell_type": "code",
   "execution_count": 5,
   "metadata": {},
   "outputs": [
    {
     "name": "stdout",
     "output_type": "stream",
     "text": [
      "[[ 1405.24291992  1441.74133301  1364.38000488 ...,  1480.22509766\n",
      "   1279.00610352  1620.09375   ]\n",
      " [ 1232.65893555  1344.44580078  1169.70947266 ...,  1205.12841797\n",
      "   1040.55664062  1421.96704102]\n",
      " [ 1209.31640625  1180.32055664  1158.13964844 ...,  1200.03442383\n",
      "   1014.03216553  1222.51074219]\n",
      " ..., \n",
      " [ 1298.96484375  1262.92358398  1205.69177246 ...,  1396.47900391\n",
      "   1090.7253418   1437.2409668 ]\n",
      " [ 1118.24731445  1209.01513672  1077.72290039 ...,  1180.70251465\n",
      "   1076.46936035  1139.74194336]\n",
      " [ 1200.88659668  1297.2265625   1260.01000977 ...,  1289.4296875\n",
      "   1165.24475098  1433.41833496]]\n"
     ]
    }
   ],
   "source": [
    "with tf.device('/gpu:0'):\n",
    "    rand_t = tf.random_uniform([50,50],0,10,dtype=tf.float32,seed=0)\n",
    "    a = tf.Variable(rand_t)\n",
    "    b = tf.Variable(rand_t)\n",
    "    c = tf.matmul(a,b)\n",
    "    init = tf.global_variables_initializer()\n",
    "\n",
    "sess = sess = tf.Session(config=tf.ConfigProto(log_device_placement=True))\n",
    "sess.run(init)\n",
    "print(sess.run(c))\n",
    "sess.close()"
   ]
  },
  {
   "cell_type": "markdown",
   "metadata": {},
   "source": [
    "手动选择多个GPU："
   ]
  },
  {
   "cell_type": "code",
   "execution_count": 9,
   "metadata": {},
   "outputs": [
    {
     "name": "stdout",
     "output_type": "stream",
     "text": [
      "[array([[ 1405.24291992,  1441.74133301,  1364.38000488, ...,\n",
      "         1480.22509766,  1279.00610352,  1620.09375   ],\n",
      "       [ 1232.65893555,  1344.44580078,  1169.70947266, ...,\n",
      "         1205.12841797,  1040.55664062,  1421.96704102],\n",
      "       [ 1209.31640625,  1180.32055664,  1158.13964844, ...,\n",
      "         1200.03442383,  1014.03216553,  1222.51074219],\n",
      "       ..., \n",
      "       [ 1298.96484375,  1262.92358398,  1205.69177246, ...,\n",
      "         1396.47900391,  1090.7253418 ,  1437.2409668 ],\n",
      "       [ 1118.24731445,  1209.01513672,  1077.72290039, ...,\n",
      "         1180.70251465,  1076.46936035,  1139.74194336],\n",
      "       [ 1200.88659668,  1297.2265625 ,  1260.01000977, ...,\n",
      "         1289.4296875 ,  1165.24475098,  1433.41833496]], dtype=float32), array([[ 1405.24291992,  1441.74133301,  1364.38000488, ...,\n",
      "         1480.22509766,  1279.00610352,  1620.09375   ],\n",
      "       [ 1232.65893555,  1344.44580078,  1169.70947266, ...,\n",
      "         1205.12841797,  1040.55664062,  1421.96704102],\n",
      "       [ 1209.31640625,  1180.32055664,  1158.13964844, ...,\n",
      "         1200.03442383,  1014.03216553,  1222.51074219],\n",
      "       ..., \n",
      "       [ 1298.96484375,  1262.92358398,  1205.69177246, ...,\n",
      "         1396.47900391,  1090.7253418 ,  1437.2409668 ],\n",
      "       [ 1118.24731445,  1209.01513672,  1077.72290039, ...,\n",
      "         1180.70251465,  1076.46936035,  1139.74194336],\n",
      "       [ 1200.88659668,  1297.2265625 ,  1260.01000977, ...,\n",
      "         1289.4296875 ,  1165.24475098,  1433.41833496]], dtype=float32)]\n"
     ]
    }
   ],
   "source": [
    "c=[]\n",
    "for d in ['/gpu:1','/gpu:2']:\n",
    "    with tf.device(d):\n",
    "        rand_t = tf.random_uniform([50,50],0,10,dtype=tf.float32,seed=0)\n",
    "        a = tf.Variable(rand_t)\n",
    "        b = tf.Variable(rand_t)\n",
    "        c.append(tf.matmul(a,b))\n",
    "        init = tf.global_variables_initializer()\n",
    "\n",
    "sess = tf.Session(config=tf.ConfigProto(allow_soft_placement=True,log_device_placement=True))\n",
    "sess.run(init)\n",
    "print(sess.run(c))\n",
    "sess.close()"
   ]
  },
  {
   "cell_type": "markdown",
   "metadata": {},
   "source": [
    "在这种情况下，如果系统有 3 个 GPU 设备，那么第一组乘法将由'/：gpu：1'执行，第二组乘以'/gpu：2'执行。"
   ]
  },
  {
   "cell_type": "markdown",
   "metadata": {},
   "source": [
    "# 解读分析"
   ]
  },
  {
   "cell_type": "markdown",
   "metadata": {},
   "source": [
    "函数 tf.device() 选择设备（CPU 或 GPU）。with 块确保设备被选择并用于其操作。with 块中定义的所有变量、常量和操作将使用在 tf.device() 中选择的设备。\n",
    "\n",
    "会话配置使用 tf.ConfigProto 进行控制。通过设置 allow_soft_placement 和 log_device_placement 标志，告诉 TensorFlow 在指定的设备不可用时自动选择可用的设备，并在执行会话时给出日志消息作为描述设备分配的输出。"
   ]
  }
 ],
 "metadata": {
  "kernelspec": {
   "display_name": "Tf-Gpu",
   "language": "python",
   "name": "tfgpu"
  },
  "language_info": {
   "codemirror_mode": {
    "name": "ipython",
    "version": 3
   },
   "file_extension": ".py",
   "mimetype": "text/x-python",
   "name": "python",
   "nbconvert_exporter": "python",
   "pygments_lexer": "ipython3",
   "version": "3.7.0"
  }
 },
 "nbformat": 4,
 "nbformat_minor": 2
}
