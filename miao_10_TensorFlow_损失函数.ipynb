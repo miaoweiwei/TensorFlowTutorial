{
 "cells": [
  {
   "cell_type": "markdown",
   "metadata": {},
   "source": [
    "# TensorFlow损失函数（定义和使用）详解\n",
    "正如前面所讨论的，在回归中定义了损失函数或目标函数，其目的是找到使损失最小化的系数。本节将介绍如何在 TensorFlow 中定义损失函数，并根据问题选择合适的损失函数。\n",
    "\n",
    "声明一个损失函数需要将系数定义为变量，将数据集定义为占位符。可以有一个常学习率或变化的学习率和正则化常数。\n",
    "\n",
    "在下面的代码中，设 m 是样本数量，n 是特征数量，P 是类别数量。这里应该在代码之前定义这些全局参数："
   ]
  },
  {
   "cell_type": "code",
   "execution_count": 1,
   "metadata": {},
   "outputs": [],
   "source": [
    "import tensorflow as tf"
   ]
  },
  {
   "cell_type": "code",
   "execution_count": 2,
   "metadata": {},
   "outputs": [],
   "source": [
    "m = 1000\n",
    "n = 15 \n",
    "p = 2"
   ]
  },
  {
   "cell_type": "markdown",
   "metadata": {},
   "source": [
    "在标准线性回归的情况下，只有一个输入变量和一个输出变量："
   ]
  },
  {
   "cell_type": "code",
   "execution_count": 3,
   "metadata": {},
   "outputs": [],
   "source": [
    "# 定义训练数据的占位符\n",
    "X = tf.placeholder(tf.float32,name='X')\n",
    "Y = tf.placeholder(tf.float32,name='Y')\n",
    "\n",
    "# 系数的变量初始化为0\n",
    "w0 = tf.Variable(0.0)\n",
    "w1 = tf.Variable(0.0)\n",
    "\n",
    "# 线性回归模型\n",
    "Y_hat = X * w1 + w0\n",
    "\n",
    "# 定义多元线性损失函数\n",
    "loss = tf.square(Y - Y_hat, name='loss')"
   ]
  },
  {
   "cell_type": "markdown",
   "metadata": {},
   "source": [
    "在逻辑回归的情况下，损失函数定义为交叉熵。输出 Y 的维数等于训练数据集中类别的数量，其中 P 为类别数量："
   ]
  },
  {
   "cell_type": "code",
   "execution_count": 4,
   "metadata": {},
   "outputs": [
    {
     "name": "stderr",
     "output_type": "stream",
     "text": [
      "WARNING: Logging before flag parsing goes to stderr.\n",
      "W0806 15:28:59.024175 21012 deprecation.py:323] From <ipython-input-4-82a2f2fef868>:13: softmax_cross_entropy_with_logits (from tensorflow.python.ops.nn_ops) is deprecated and will be removed in a future version.\n",
      "Instructions for updating:\n",
      "\n",
      "Future major versions of TensorFlow will allow gradients to flow\n",
      "into the labels input on backprop by default.\n",
      "\n",
      "See `tf.nn.softmax_cross_entropy_with_logits_v2`.\n",
      "\n"
     ]
    }
   ],
   "source": [
    "# 定义训练数据的占位符\n",
    "X = tf.placeholder(tf.float32,name='X',shape=[m,n])\n",
    "Y = tf.placeholder(tf.float32,name='Y',shape=[m,p])\n",
    "\n",
    "# 系数的变量初始化为0\n",
    "w0 = tf.Variable(tf.zeros([1,p]),name='bias') # 偏执\n",
    "w1 = tf.Variable(tf.random_normal([n,1]),name='weights') # 权值\n",
    "\n",
    "# 线性回归模型\n",
    "Y_hat = tf.matmul(X, w1) + w0 # matmul两个矩阵相乘， multiply 两个矩阵的元素对应相乘\n",
    "\n",
    "# 定义损失函数\n",
    "entropy = tf.nn.softmax_cross_entropy_with_logits(logits=Y_hat,labels=Y) # 交叉熵损失函数\n",
    "# logits_scaled = tf.nn.softmax(logits) # 交叉熵\n",
    "loss = tf.reduce_mean(entropy)"
   ]
  },
  {
   "cell_type": "markdown",
   "metadata": {},
   "source": [
    "如果想把 L1 正则化加到损失上，正则化参数$\\lambda =0.8$，那么代码如下："
   ]
  },
  {
   "cell_type": "code",
   "execution_count": 5,
   "metadata": {},
   "outputs": [],
   "source": [
    "lamda = tf.constant(0.8) # 正则化参数\n",
    "regularization_param = lamda * tf.reduce_sum(tf.abs(w1))\n",
    "\n",
    "# 新的损失函数\n",
    "loss += regularization_param"
   ]
  },
  {
   "cell_type": "markdown",
   "metadata": {},
   "source": [
    "对于 L2 正则化，正则化参数$\\lambda =0.8$ 代码如下："
   ]
  },
  {
   "cell_type": "code",
   "execution_count": 8,
   "metadata": {},
   "outputs": [],
   "source": [
    "lamda = tf.constant(0.8) # 正则化参数 \n",
    "regularization_param = lamda * tf.nn.l2_loss(w1)\n",
    "\n",
    "# 新的损失函数\n",
    "loss += regularization_param"
   ]
  },
  {
   "cell_type": "markdown",
   "metadata": {},
   "source": [
    "由此，你应该学会了如何实现不同类型的损失函数。那么根据手头的回归任务，你可以选择相应的损失函数或设计自己的损失函数。在损失项中也可以结合 L1 和 L2 正则化。\n",
    "### 拓展阅读\n",
    "为确保收敛，损失函数应为凸的。一个光滑的、可微分的凸损失函数可以提供更好的收敛性。随着学习的进行，损失函数的值应该下降，并最终变得稳定。"
   ]
  }
 ],
 "metadata": {
  "kernelspec": {
   "display_name": "TensorFlow",
   "language": "python",
   "name": "tensorflow"
  },
  "language_info": {
   "codemirror_mode": {
    "name": "ipython",
    "version": 3
   },
   "file_extension": ".py",
   "mimetype": "text/x-python",
   "name": "python",
   "nbconvert_exporter": "python",
   "pygments_lexer": "ipython3",
   "version": "3.6.2"
  }
 },
 "nbformat": 4,
 "nbformat_minor": 2
}
