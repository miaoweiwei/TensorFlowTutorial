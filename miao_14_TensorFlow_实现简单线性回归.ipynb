{
 "cells": [
  {
   "cell_type": "markdown",
   "metadata": {},
   "source": [
    "# TensorFlow实现简单线性回归"
   ]
  },
  {
   "cell_type": "markdown",
   "metadata": {},
   "source": [
    "本节将针对波士顿房价数据集的房间数量（RM）采用简单线性回归，目标是预测在最后一列（MEDV）给出的房价。\n",
    "\n",
    "波士顿房价数据集可从http://lib.stat.cmu.edu/datasets/boston处获取。\n",
    "\n",
    "本小节直接从 TensorFlow contrib 数据集加载数据。使用随机梯度下降优化器优化单个训练样本的系数。"
   ]
  },
  {
   "cell_type": "markdown",
   "metadata": {},
   "source": [
    "## 实现简单线性回归的具体做法"
   ]
  },
  {
   "cell_type": "markdown",
   "metadata": {},
   "source": [
    "1. 导入需要的所有软件包："
   ]
  },
  {
   "cell_type": "code",
   "execution_count": 1,
   "metadata": {},
   "outputs": [],
   "source": [
    "import tensorflow as tf\n",
    "import numpy as np\n",
    "import matplotlib.pyplot as plt"
   ]
  },
  {
   "cell_type": "markdown",
   "metadata": {},
   "source": [
    "2. 在神经网络中，所有的输入都线性增加。为了使训练有效，输入应该被归一化，所以这里定义一个函数来归一化输入数据："
   ]
  },
  {
   "cell_type": "code",
   "execution_count": 2,
   "metadata": {},
   "outputs": [],
   "source": [
    "def normalize(X):\n",
    "    \"\"\"规范化数组X\"\"\"\n",
    "    mean = np.mean(X)\n",
    "    #     std = np.std(arr,axis=0)  # axis=0计算每一列的标准差\n",
    "    #     std = np.std(arr,axis=1)  # 计算每一行的标准差\n",
    "    std = np.std(X)  # 计算全局标准差\n",
    "    X = (X - mean) / std\n",
    "    return X"
   ]
  },
  {
   "cell_type": "markdown",
   "metadata": {},
   "source": [
    "3. 现在使用 TensorFlow contrib 数据集加载波士顿房价数据集，并将其分解为 X_train 和 Y_train。可以对数据进行归一化处理："
   ]
  },
  {
   "cell_type": "code",
   "execution_count": 3,
   "metadata": {
    "scrolled": true
   },
   "outputs": [
    {
     "name": "stderr",
     "output_type": "stream",
     "text": [
      "WARNING: Logging before flag parsing goes to stderr.\n",
      "W0812 10:14:32.217827 14048 lazy_loader.py:50] \n",
      "The TensorFlow contrib module will not be included in TensorFlow 2.0.\n",
      "For more information, please see:\n",
      "  * https://github.com/tensorflow/community/blob/master/rfcs/20180907-contrib-sunset.md\n",
      "  * https://github.com/tensorflow/addons\n",
      "  * https://github.com/tensorflow/io (for I/O related ops)\n",
      "If you depend on functionality not listed there, please file an issue.\n",
      "\n",
      "W0812 10:14:32.218809 14048 deprecation.py:323] From <ipython-input-3-feb7eea41c5b>:2: load_dataset (from tensorflow.contrib.learn.python.learn.datasets) is deprecated and will be removed in a future version.\n",
      "Instructions for updating:\n",
      "Please use tf.data.\n",
      "W0812 10:14:32.220811 14048 deprecation.py:323] From D:\\Anaconda3\\envs\\tensorflow\\lib\\site-packages\\tensorflow\\contrib\\learn\\python\\learn\\datasets\\__init__.py:80: load_boston (from tensorflow.contrib.learn.python.learn.datasets.base) is deprecated and will be removed in a future version.\n",
      "Instructions for updating:\n",
      "Use scikits.learn.datasets.\n",
      "W0812 10:14:32.222812 14048 deprecation.py:323] From D:\\Anaconda3\\envs\\tensorflow\\lib\\site-packages\\tensorflow\\contrib\\learn\\python\\learn\\datasets\\base.py:129: load_csv_with_header (from tensorflow.contrib.learn.python.learn.datasets.base) is deprecated and will be removed in a future version.\n",
      "Instructions for updating:\n",
      "Use tf.data instead.\n"
     ]
    },
    {
     "name": "stdout",
     "output_type": "stream",
     "text": [
      "n_samples: 506\n"
     ]
    }
   ],
   "source": [
    "# Data\n",
    "boston = tf.contrib.learn.datasets.load_dataset('boston')\n",
    "# 数据集的第5列房间数量（RM），最后一列为标签（MEDV）给出的房价\n",
    "X_train, Y_train = boston.data[:, 5], boston.target\n",
    "# X_train = normalize(X_train) # 这一步是可选的\n",
    "n_samples = len(X_train)\n",
    "print(\"n_samples:\", n_samples)"
   ]
  },
  {
   "cell_type": "markdown",
   "metadata": {},
   "source": [
    "4. 为训练数据声明 TensorFlow 占位符："
   ]
  },
  {
   "cell_type": "code",
   "execution_count": 4,
   "metadata": {},
   "outputs": [],
   "source": [
    "# Placeholder for the Training Data\n",
    "X = tf.placeholder(tf.float32, name='X')\n",
    "Y = tf.placeholder(tf.float32, name='Y')"
   ]
  },
  {
   "cell_type": "markdown",
   "metadata": {},
   "source": [
    "5. 创建 TensorFlow 的权重和偏置变量且初始值为零："
   ]
  },
  {
   "cell_type": "code",
   "execution_count": 5,
   "metadata": {},
   "outputs": [],
   "source": [
    "# Variables for coefficients initialized to 0\n",
    "b = tf.Variable(0.0)\n",
    "w = tf.Variable(0.0)"
   ]
  },
  {
   "cell_type": "markdown",
   "metadata": {},
   "source": [
    "6. 定义用于预测的线性回归模型："
   ]
  },
  {
   "cell_type": "code",
   "execution_count": 6,
   "metadata": {},
   "outputs": [],
   "source": [
    "# The Linear Regression Model\n",
    "Y_hat = X * w + b"
   ]
  },
  {
   "cell_type": "markdown",
   "metadata": {},
   "source": [
    "7.定义损失函数："
   ]
  },
  {
   "cell_type": "code",
   "execution_count": 7,
   "metadata": {},
   "outputs": [],
   "source": [
    "# Loss function\n",
    "loss = tf.square(Y - Y_hat, name='loss')"
   ]
  },
  {
   "cell_type": "markdown",
   "metadata": {},
   "source": [
    "8. 选择梯度下降优化器："
   ]
  },
  {
   "cell_type": "code",
   "execution_count": 8,
   "metadata": {},
   "outputs": [],
   "source": [
    "# Gradient Descent with learning rate of 0.01 to minimize loss\n",
    "optimizer = tf.train.GradientDescentOptimizer(\n",
    "    learning_rate=0.01).minimize(loss)"
   ]
  },
  {
   "cell_type": "markdown",
   "metadata": {},
   "source": [
    "9. 声明初始化操作符："
   ]
  },
  {
   "cell_type": "code",
   "execution_count": 9,
   "metadata": {},
   "outputs": [],
   "source": [
    "# Initializing Variables\n",
    "init_op = tf.global_variables_initializer()\n",
    "total = []"
   ]
  },
  {
   "cell_type": "markdown",
   "metadata": {},
   "source": [
    "zip() 函数用于将可迭代的对象作为参数，将对象中对应的元素打包成一个个元组，然后返回由这些元组组成的列表。"
   ]
  },
  {
   "cell_type": "code",
   "execution_count": 10,
   "metadata": {},
   "outputs": [
    {
     "name": "stdout",
     "output_type": "stream",
     "text": [
      "(arr1,arr2)\n",
      "(1, 4)\n",
      "(2, 5)\n",
      "(3, 6)\n",
      "(arr1,arr3)\n",
      "(1, 4)\n",
      "(2, 5)\n",
      "(3, 6)\n",
      "(1, 2, 3)\n",
      "(4, 5, 6)\n"
     ]
    }
   ],
   "source": [
    "arr1 = [1, 2, 3]\n",
    "arr2 = [4, 5, 6]\n",
    "arr3 = [4, 5, 6, 7, 8]\n",
    "print(\"(arr1,arr2)\")\n",
    "zipped = zip(arr1, arr2)\n",
    "for temp in zipped:  # 打包为元组的列表\n",
    "    print(temp)\n",
    "print(\"(arr1,arr3)\")\n",
    "for temp in zip(arr1, arr3):  # 打包为元组的列表\n",
    "    print(temp)\n",
    "\n",
    "zipped = zip(arr1, arr2)\n",
    "for temp in zip(*zipped):  # 与 zip 相反，*zipped 可理解为解压，返回二维矩阵式\n",
    "    print(temp)"
   ]
  },
  {
   "cell_type": "markdown",
   "metadata": {},
   "source": [
    "10. 现在，开始计算图，训练 100 次："
   ]
  },
  {
   "cell_type": "code",
   "execution_count": 11,
   "metadata": {
    "scrolled": true
   },
   "outputs": [
    {
     "name": "stdout",
     "output_type": "stream",
     "text": [
      "Epoch 0: Loss 26.779895120142466\n",
      "Epoch 1: Loss 25.532963559892984\n",
      "Epoch 2: Loss 25.308105514786394\n",
      "Epoch 3: Loss 25.10842958027482\n",
      "Epoch 4: Loss 24.930981125067394\n",
      "Epoch 5: Loss 24.773168119782166\n",
      "Epoch 6: Loss 24.63269657542246\n",
      "Epoch 7: Loss 24.507561973939524\n",
      "Epoch 8: Loss 24.395995892890088\n",
      "Epoch 9: Loss 24.296436210372303\n",
      "Epoch 10: Loss 24.207509442804618\n",
      "Epoch 11: Loss 24.12800798017121\n",
      "Epoch 12: Loss 24.05685957382555\n",
      "Epoch 13: Loss 23.993130210483717\n",
      "Epoch 14: Loss 23.93598476036447\n",
      "Epoch 15: Loss 23.88469580368127\n",
      "Epoch 16: Loss 23.838609592460674\n",
      "Epoch 17: Loss 23.79715412149717\n",
      "Epoch 18: Loss 23.759826562716107\n",
      "Epoch 19: Loss 23.72617975498383\n",
      "Epoch 20: Loss 23.695819259177686\n",
      "Epoch 21: Loss 23.668390857997256\n",
      "Epoch 22: Loss 23.643586170807783\n",
      "Epoch 23: Loss 23.621129276800527\n",
      "Epoch 24: Loss 23.600774940486847\n",
      "Epoch 25: Loss 23.5823057752245\n",
      "Epoch 26: Loss 23.56553128231661\n",
      "Epoch 27: Loss 23.550277626216015\n",
      "Epoch 28: Loss 23.53639167287385\n",
      "Epoch 29: Loss 23.52373552081982\n",
      "Epoch 30: Loss 23.512190676023653\n",
      "Epoch 31: Loss 23.501650609552183\n",
      "Epoch 32: Loss 23.492014001195994\n",
      "Epoch 33: Loss 23.483195264690814\n",
      "Epoch 34: Loss 23.47511956139213\n",
      "Epoch 35: Loss 23.467715094224612\n",
      "Epoch 36: Loss 23.460917437044404\n",
      "Epoch 37: Loss 23.45467895382922\n",
      "Epoch 38: Loss 23.448939672046908\n",
      "Epoch 39: Loss 23.443664533057824\n",
      "Epoch 40: Loss 23.438802751772606\n",
      "Epoch 41: Loss 23.43432396311393\n",
      "Epoch 42: Loss 23.430192193869797\n",
      "Epoch 43: Loss 23.426379742017637\n",
      "Epoch 44: Loss 23.422859176515193\n",
      "Epoch 45: Loss 23.419602495579298\n",
      "Epoch 46: Loss 23.416596911930217\n",
      "Epoch 47: Loss 23.413807810829333\n",
      "Epoch 48: Loss 23.41123059127257\n",
      "Epoch 49: Loss 23.408840943519664\n",
      "Epoch 50: Loss 23.406627118922014\n",
      "Epoch 51: Loss 23.404573358598565\n",
      "Epoch 52: Loss 23.40266498932764\n",
      "Epoch 53: Loss 23.400894444608415\n",
      "Epoch 54: Loss 23.399250355106222\n",
      "Epoch 55: Loss 23.397723299519804\n",
      "Epoch 56: Loss 23.396302776426936\n",
      "Epoch 57: Loss 23.3949865373347\n",
      "Epoch 58: Loss 23.393754983291267\n",
      "Epoch 59: Loss 23.392612781407347\n",
      "Epoch 60: Loss 23.39154735202315\n",
      "Epoch 61: Loss 23.390555547068367\n",
      "Epoch 62: Loss 23.38963470936571\n",
      "Epoch 63: Loss 23.38877244323514\n",
      "Epoch 64: Loss 23.387971929632116\n",
      "Epoch 65: Loss 23.387227003585497\n",
      "Epoch 66: Loss 23.386528102198152\n",
      "Epoch 67: Loss 23.385877181167075\n",
      "Epoch 68: Loss 23.38527162835982\n",
      "Epoch 69: Loss 23.384706245519627\n",
      "Epoch 70: Loss 23.384179698731415\n",
      "Epoch 71: Loss 23.383685520052758\n",
      "Epoch 72: Loss 23.383227797384816\n",
      "Epoch 73: Loss 23.382795876992674\n",
      "Epoch 74: Loss 23.38239645595351\n",
      "Epoch 75: Loss 23.382024998963892\n",
      "Epoch 76: Loss 23.381671397534603\n",
      "Epoch 77: Loss 23.381348886361902\n",
      "Epoch 78: Loss 23.38103979914116\n",
      "Epoch 79: Loss 23.380757523183398\n",
      "Epoch 80: Loss 23.380487531058648\n",
      "Epoch 81: Loss 23.38024066128927\n",
      "Epoch 82: Loss 23.380009090792445\n",
      "Epoch 83: Loss 23.37979158143614\n",
      "Epoch 84: Loss 23.379588381962325\n",
      "Epoch 85: Loss 23.379399497127277\n",
      "Epoch 86: Loss 23.37922222236956\n",
      "Epoch 87: Loss 23.379053854744278\n",
      "Epoch 88: Loss 23.37890081817583\n",
      "Epoch 89: Loss 23.378754536310044\n",
      "Epoch 90: Loss 23.378618711780753\n",
      "Epoch 91: Loss 23.378490939184804\n",
      "Epoch 92: Loss 23.378373034032\n",
      "Epoch 93: Loss 23.378262373846695\n",
      "Epoch 94: Loss 23.378158347790908\n",
      "Epoch 95: Loss 23.378059349977136\n",
      "Epoch 96: Loss 23.37797033430801\n",
      "Epoch 97: Loss 23.37788371967226\n",
      "Epoch 98: Loss 23.377808107552244\n",
      "Epoch 99: Loss 23.377732738062384\n"
     ]
    }
   ],
   "source": [
    "# Computation Graph\n",
    "with tf.Session() as sess:\n",
    "    # Initialize variables\n",
    "    sess.run(init_op)\n",
    "    writer = tf.summary.FileWriter('graphs.gra', sess.graph)\n",
    "    # train the model for 100 epochs\n",
    "    for i in range(100):  # 迭代100次\n",
    "        total_loss = 0\n",
    "        for x, y in zip(X_train, Y_train):\n",
    "            _, l = sess.run([optimizer, loss], feed_dict={X: x, Y: y})\n",
    "            total_loss += l\n",
    "        total.append(total_loss / n_samples)  # 记录一个轮次的平均loss值\n",
    "        print(\"Epoch {0}: Loss {1}\".format(i, total_loss / n_samples))\n",
    "    writer.close()\n",
    "    b_value, w_value = sess.run([b, w])  # 获取最后的 b 和 w"
   ]
  },
  {
   "cell_type": "markdown",
   "metadata": {},
   "source": [
    "11. 查看结果："
   ]
  },
  {
   "cell_type": "code",
   "execution_count": 12,
   "metadata": {},
   "outputs": [
    {
     "name": "stdout",
     "output_type": "stream",
     "text": [
      "Done\n"
     ]
    },
    {
     "data": {
      "image/png": "[encoded data removed]",
      "text/plain": [
       "<matplotlib.figure.Figure at 0x1db596cf748>"
      ]
     },
     "metadata": {},
     "output_type": "display_data"
    },
    {
     "data": {
      "image/png": "[encoded data removed]",
      "text/plain": [
       "<matplotlib.figure.Figure at 0x1db59557400>"
      ]
     },
     "metadata": {},
     "output_type": "display_data"
    }
   ],
   "source": [
    "Y_pred = X_train * w_value + b_value\n",
    "print(\"Done\")\n",
    "# plot the rewult\n",
    "plt.plot(X_train,Y_train, \"bo\", label=\"Real Date\")\n",
    "plt.plot(X_train,Y_pred, 'r',label=\"Predicted Data\") # 预测数据图\n",
    "plt.legend()\n",
    "plt.show()\n",
    "plt.plot(total) # 显示 loss 图\n",
    "plt.show()"
   ]
  },
  {
   "cell_type": "markdown",
   "metadata": {},
   "source": [
    "下图是简单线性回归器的 TensorBoard 图：\n",
    "<img src=\"./Markdown_images/miao_14_TensorFlow_实现简单线性回归/01.png\" width=\"800\">\n",
    "该图有两个名称范围节点 Variable 和 Variable_1，它们分别是表示偏置和权重的高级节点。以梯度命名的节点也是一个高级节点，展开节点，可以看到它需要 7 个输入并使用 GradientDescentOptimizer 计算梯度，对权重和偏置进行更新：\n",
    "<img src=\"./Markdown_images/miao_14_TensorFlow_实现简单线性回归/02.gif\" width=\"800\">"
   ]
  },
  {
   "cell_type": "markdown",
   "metadata": {},
   "source": [
    "## 总结\n",
    "本节进行了简单的线性回归，但是如何定义模型的性能呢？\n",
    "\n",
    "有多种方法可以做到这一点。统计上来说，可以计算 R2 或将数据分为训练集和交叉验证集，并检查验证集的准确性（损失项）。"
   ]
  }
 ],
 "metadata": {
  "kernelspec": {
   "display_name": "TensorFlow",
   "language": "python",
   "name": "tensorflow"
  },
  "language_info": {
   "codemirror_mode": {
    "name": "ipython",
    "version": 3
   },
   "file_extension": ".py",
   "mimetype": "text/x-python",
   "name": "python",
   "nbconvert_exporter": "python",
   "pygments_lexer": "ipython3",
   "version": "3.6.2"
  }
 },
 "nbformat": 4,
 "nbformat_minor": 2
}
