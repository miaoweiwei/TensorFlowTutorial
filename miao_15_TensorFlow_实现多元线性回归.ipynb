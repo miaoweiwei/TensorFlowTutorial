{
 "cells": [
  {
   "cell_type": "markdown",
   "metadata": {},
   "source": [
    "# TensorFlow实现多元线性回归（超详细）\n",
    "在 TensorFlow 实现简单线性回归的基础上，可通过在权重和占位符的声明中稍作修改来对相同的数据进行多元线性回归。\n",
    "\n",
    "在多元线性回归的情况下，由于每个特征具有不同的值范围，归一化变得至关重要。这里是波士顿房价数据集的多重线性回归的代码，使用 13 个输入特征。\n",
    "\n",
    "波士顿房价数据集可从http://lib.stat.cmu.edu/datasets/boston处获取。"
   ]
  },
  {
   "cell_type": "markdown",
   "metadata": {},
   "source": [
    "## 多元线性回归的具体实现"
   ]
  },
  {
   "cell_type": "markdown",
   "metadata": {},
   "source": [
    "1. 导入需要的所有软件包"
   ]
  },
  {
   "cell_type": "code",
   "execution_count": 37,
   "metadata": {},
   "outputs": [],
   "source": [
    "import tensorflow as tf\n",
    "import numpy as np\n",
    "import matplotlib.pyplot as plt"
   ]
  },
  {
   "cell_type": "markdown",
   "metadata": {},
   "source": [
    "2. 因为各特征的数据范围不同，需要归一化特征数据。为此定义一个归一化函数。另外，这里添加一个额外的固定输入值将权重和偏置结合起来。为此定义函数 append_bias_reshape()。该技巧有时可有效简化编程："
   ]
  },
  {
   "cell_type": "code",
   "execution_count": 38,
   "metadata": {},
   "outputs": [],
   "source": [
    "def normalize(X):\n",
    "    \"\"\"Normalizes the array X,规范化数组X.\"\"\"\n",
    "    mean = np.mean(X)\n",
    "    #     std = np.std(arr,axis=0)  # axis=0计算每一列的标准差\n",
    "    #     std = np.std(arr,axis=1)  # 计算每一行的标准差\n",
    "    std = np.std(X)  # 计算全局标准差\n",
    "    X = (X - mean) / std\n",
    "    return X\n",
    "\n",
    "\n",
    "def append_bias_reshape(features, labels):\n",
    "    \"\"\"给数据添加偏执\"\"\"\n",
    "    m = features.shape[0]  # 行数\n",
    "    n = features.shape[1]  # 列数\n",
    "    x = np.reshape(np.c_[np.ones(m), features], [m, n + 1]) # 把添加过偏执的特征指定形状[m, n + 1]\n",
    "    y = np.reshape(labels, [m, 1])\n",
    "    return x, y"
   ]
  },
  {
   "cell_type": "code",
   "execution_count": 39,
   "metadata": {},
   "outputs": [
    {
     "name": "stdout",
     "output_type": "stream",
     "text": [
      "b1: [[1 2 3 7 8 9]\n",
      " [4 5 6 3 2 1]]\n",
      "b2: [[1 2 3]\n",
      " [4 5 6]\n",
      " [7 8 9]\n",
      " [3 2 1]]\n"
     ]
    }
   ],
   "source": [
    "# np.c_ 和 np.r_ 的作用\n",
    "a1 = np.array([[1, 2, 3], [4, 5, 6]])\n",
    "a2 = np.array([[7, 8, 9], [3, 2, 1]])\n",
    "b1 = np.c_[a1, a2]  # 把两个矩阵的列对齐\n",
    "print('b1:', b1)\n",
    "b2 = np.r_[a1, a2]  # 把两个矩阵的行对齐\n",
    "print('b2:', b2)"
   ]
  },
  {
   "cell_type": "markdown",
   "metadata": {},
   "source": [
    "3. 现在使用 TensorFlow contrib 数据集加载波士顿房价数据集，并将其划分为 X_train 和 Y_train。注意到 X_train 包含所需要的特征。可以选择在这里对数据进行归一化处理，也可以添加偏置并对网络数据重构："
   ]
  },
  {
   "cell_type": "code",
   "execution_count": 40,
   "metadata": {},
   "outputs": [],
   "source": [
    "# Date\n",
    "boston = tf.contrib.learn.datasets.load_dataset('boston')  # 前十三列都是特征， 最后一个是标签\n",
    "# 数据集的第5列房间数量（RM），最后一列为标签（MEDV）给出的房价\n",
    "X_train, Y_train = boston.data, boston.target\n",
    "X_train = normalize(X_train)  # 归一化\n",
    "X_train, Y_train = append_bias_reshape(X_train, Y_train)\n",
    "m = len(X_train)  # 培训示例数量\n",
    "n = 13 + 1  # 特征的数量 + 偏执"
   ]
  },
  {
   "cell_type": "markdown",
   "metadata": {},
   "source": [
    "4. 为训练数据声明 TensorFlow 占位符。观测占位符 X 的形状变化："
   ]
  },
  {
   "cell_type": "code",
   "execution_count": 41,
   "metadata": {},
   "outputs": [],
   "source": [
    "# Placeholder for the Training Data\n",
    "X = tf.placeholder(tf.float32, name='X',\n",
    "                   shape=[m, n])  # 输入数据的形状[m，n] m 为数据的数量 n 为一个数据的特征\n",
    "Y = tf.placeholder(tf.float32, name='Y')"
   ]
  },
  {
   "cell_type": "markdown",
   "metadata": {},
   "source": [
    "5. 为权重和偏置创建 TensorFlow 变量。通过随机数初始化权重："
   ]
  },
  {
   "cell_type": "code",
   "execution_count": 5,
   "metadata": {},
   "outputs": [],
   "source": [
    "# Variable for coefficients 系数变量\n",
    "w = tf.Variable(tf.random_normal([n, 1]))"
   ]
  },
  {
   "cell_type": "markdown",
   "metadata": {},
   "source": [
    "6. 定义要用于预测的线性回归模型。现在需要矩阵乘法来完成这个任务："
   ]
  },
  {
   "cell_type": "code",
   "execution_count": 6,
   "metadata": {},
   "outputs": [],
   "source": [
    "# The Liner Regression Model\n",
    "Y_hat = tf.matmul(X,w) # 两个矩阵相乘"
   ]
  },
  {
   "cell_type": "markdown",
   "metadata": {},
   "source": [
    "7. 为了更好地求微分，定义损失函数："
   ]
  },
  {
   "cell_type": "code",
   "execution_count": 7,
   "metadata": {},
   "outputs": [],
   "source": [
    "# Loss function tf.reduce_mean\n",
    "# 函数用于计算张量tensor沿着指定的数轴（tensor的某一维度）上的的平均值，主要用作降维或者计算tensor（图像）的平均值。\n",
    "loss = tf.reduce_mean(tf.square(Y - Y_hat, name='loss'))"
   ]
  },
  {
   "cell_type": "markdown",
   "metadata": {},
   "source": [
    "8. 选择正确的优化器："
   ]
  },
  {
   "cell_type": "code",
   "execution_count": 8,
   "metadata": {},
   "outputs": [],
   "source": [
    "# Gradient Descent with learning rate of 0.01 to minimize loss\n",
    "optimizer = tf.train.GradientDescentOptimizer(learning_rate=0.01).minimize(loss)"
   ]
  },
  {
   "cell_type": "markdown",
   "metadata": {},
   "source": [
    "9. 定义初始化操作符："
   ]
  },
  {
   "cell_type": "code",
   "execution_count": 9,
   "metadata": {},
   "outputs": [],
   "source": [
    "# Initializing Variables\n",
    "init_op = tf.global_variables_initializer()\n",
    "total = []"
   ]
  },
  {
   "cell_type": "markdown",
   "metadata": {},
   "source": [
    "10. 开始计算图："
   ]
  },
  {
   "cell_type": "code",
   "execution_count": 16,
   "metadata": {
    "scrolled": true
   },
   "outputs": [
    {
     "name": "stdout",
     "output_type": "stream",
     "text": [
      "Epoch 0: Loss 450.306884765625\n",
      "Epoch 1: Loss 315.9251403808594\n",
      "Epoch 2: Loss 239.66192626953125\n",
      "Epoch 3: Loss 195.8450164794922\n",
      "Epoch 4: Loss 170.16705322265625\n",
      "Epoch 5: Loss 154.65354919433594\n",
      "Epoch 6: Loss 144.85838317871094\n",
      "Epoch 7: Loss 138.30178833007812\n",
      "Epoch 8: Loss 133.59954833984375\n",
      "Epoch 9: Loss 129.9781951904297\n",
      "Epoch 10: Loss 127.00444030761719\n",
      "Epoch 11: Loss 124.43476867675781\n",
      "Epoch 12: Loss 122.13154602050781\n",
      "Epoch 13: Loss 120.01606750488281\n",
      "Epoch 14: Loss 118.04276275634766\n",
      "Epoch 15: Loss 116.18439483642578\n",
      "Epoch 16: Loss 114.42420196533203\n",
      "Epoch 17: Loss 112.75123596191406\n",
      "Epoch 18: Loss 111.15784454345703\n",
      "Epoch 19: Loss 109.63838958740234\n",
      "Epoch 20: Loss 108.18829345703125\n",
      "Epoch 21: Loss 106.80375671386719\n",
      "Epoch 22: Loss 105.48135375976562\n",
      "Epoch 23: Loss 104.21802520751953\n",
      "Epoch 24: Loss 103.01094055175781\n",
      "Epoch 25: Loss 101.8573989868164\n",
      "Epoch 26: Loss 100.75491333007812\n",
      "Epoch 27: Loss 99.7010498046875\n",
      "Epoch 28: Loss 98.69355773925781\n",
      "Epoch 29: Loss 97.73030853271484\n",
      "Epoch 30: Loss 96.80921936035156\n",
      "Epoch 31: Loss 95.92833709716797\n",
      "Epoch 32: Loss 95.08577728271484\n",
      "Epoch 33: Loss 94.2798080444336\n",
      "Epoch 34: Loss 93.50870513916016\n",
      "Epoch 35: Loss 92.77085876464844\n",
      "Epoch 36: Loss 92.064697265625\n",
      "Epoch 37: Loss 91.3888168334961\n",
      "Epoch 38: Loss 90.74176025390625\n",
      "Epoch 39: Loss 90.12220001220703\n",
      "Epoch 40: Loss 89.52887725830078\n",
      "Epoch 41: Loss 88.96057891845703\n",
      "Epoch 42: Loss 88.41614532470703\n",
      "Epoch 43: Loss 87.89447784423828\n",
      "Epoch 44: Loss 87.39450073242188\n",
      "Epoch 45: Loss 86.91523742675781\n",
      "Epoch 46: Loss 86.4557113647461\n",
      "Epoch 47: Loss 86.01502990722656\n",
      "Epoch 48: Loss 85.5923080444336\n",
      "Epoch 49: Loss 85.18672180175781\n",
      "Epoch 50: Loss 84.7974853515625\n",
      "Epoch 51: Loss 84.42384338378906\n",
      "Epoch 52: Loss 84.0650634765625\n",
      "Epoch 53: Loss 83.72048950195312\n",
      "Epoch 54: Loss 83.38945007324219\n",
      "Epoch 55: Loss 83.0713119506836\n",
      "Epoch 56: Loss 82.7655029296875\n",
      "Epoch 57: Loss 82.4714584350586\n",
      "Epoch 58: Loss 82.18860626220703\n",
      "Epoch 59: Loss 81.91646575927734\n",
      "Epoch 60: Loss 81.65452575683594\n",
      "Epoch 61: Loss 81.40234375\n",
      "Epoch 62: Loss 81.15943908691406\n",
      "Epoch 63: Loss 80.92540740966797\n",
      "Epoch 64: Loss 80.69983673095703\n",
      "Epoch 65: Loss 80.48235321044922\n",
      "Epoch 66: Loss 80.27257537841797\n",
      "Epoch 67: Loss 80.07015228271484\n",
      "Epoch 68: Loss 79.874755859375\n",
      "Epoch 69: Loss 79.68607330322266\n",
      "Epoch 70: Loss 79.5037612915039\n",
      "Epoch 71: Loss 79.32756805419922\n",
      "Epoch 72: Loss 79.1572036743164\n",
      "Epoch 73: Loss 78.99241638183594\n",
      "Epoch 74: Loss 78.83293914794922\n",
      "Epoch 75: Loss 78.67852783203125\n",
      "Epoch 76: Loss 78.52896118164062\n",
      "Epoch 77: Loss 78.38404083251953\n",
      "Epoch 78: Loss 78.24351501464844\n",
      "Epoch 79: Loss 78.10723114013672\n",
      "Epoch 80: Loss 77.97496032714844\n",
      "Epoch 81: Loss 77.84654235839844\n",
      "Epoch 82: Loss 77.72180938720703\n",
      "Epoch 83: Loss 77.60059356689453\n",
      "Epoch 84: Loss 77.48271942138672\n",
      "Epoch 85: Loss 77.3680648803711\n",
      "Epoch 86: Loss 77.25647735595703\n",
      "Epoch 87: Loss 77.14781188964844\n",
      "Epoch 88: Loss 77.04194641113281\n",
      "Epoch 89: Loss 76.93878173828125\n",
      "Epoch 90: Loss 76.8381576538086\n",
      "Epoch 91: Loss 76.73998260498047\n",
      "Epoch 92: Loss 76.64414978027344\n",
      "Epoch 93: Loss 76.5505599975586\n",
      "Epoch 94: Loss 76.4591064453125\n",
      "Epoch 95: Loss 76.36971282958984\n",
      "Epoch 96: Loss 76.28226470947266\n",
      "Epoch 97: Loss 76.19670104980469\n",
      "Epoch 98: Loss 76.1129150390625\n",
      "Epoch 99: Loss 76.03086853027344\n"
     ]
    }
   ],
   "source": [
    "with tf.Session() as sess:\n",
    "    # Initialize variables\n",
    "    sess.run(init_op)\n",
    "    writer = tf.summary.FileWriter('graphs', sess.graph)\n",
    "    # train the model for 100 epochs\n",
    "    for i in range(100):  # 迭代100次\n",
    "        _, l = sess.run([optimizer, loss], feed_dict={X: X_train, Y: Y_train})\n",
    "        total.append(l)  # 记录一个轮次的平均loss值\n",
    "        print(\"Epoch {0}: Loss {1}\".format(i, l))\n",
    "    writer.close()\n",
    "    w_value = sess.run([w])  # 获取最后的 b 和 w"
   ]
  },
  {
   "cell_type": "markdown",
   "metadata": {},
   "source": [
    "11. 绘制损失函数："
   ]
  },
  {
   "cell_type": "code",
   "execution_count": 14,
   "metadata": {},
   "outputs": [
    {
     "data": {
      "image/png": "[encoded data removed]",
      "text/plain": [
       "<matplotlib.figure.Figure at 0x20aa4fbf710>"
      ]
     },
     "metadata": {},
     "output_type": "display_data"
    }
   ],
   "source": [
    "plt.plot(total) # 显示 loss 图\n",
    "plt.show()"
   ]
  },
  {
   "cell_type": "markdown",
   "metadata": {},
   "source": [
    "本节使用了 13 个特征来训练模型。简单线性回归和多元线性回归的主要不同在于权重，且系数的数量始终等于输入特征的数量。下图为所构建的多元线性回归模\n",
    "型的 TensorBoard 图：\n",
    "<img src=\"./Markdown_images/miao_15_TensorFlow_实现多元线性回归/01.png\" width=\"800\">"
   ]
  },
  {
   "cell_type": "markdown",
   "metadata": {},
   "source": [
    "现在可以使用从模型中学到的系数来预测房价："
   ]
  },
  {
   "cell_type": "code",
   "execution_count": 15,
   "metadata": {},
   "outputs": [
    {
     "name": "stdout",
     "output_type": "stream",
     "text": [
      "Predicted value:$[23700.] Actual value:/$[16800.]\n"
     ]
    }
   ],
   "source": [
    "N = 500\n",
    "X_new = X_train[N,:]\n",
    "Y_pred = (np.matmul(X_new, w_value)).round(1)\n",
    "print('Predicted value:${0} Actual value:/${1}'.format(Y_pred[0]*1000, Y_train[N] * 1000, '\\nDone'))"
   ]
  },
  {
   "cell_type": "code",
   "execution_count": null,
   "metadata": {},
   "outputs": [],
   "source": []
  }
 ],
 "metadata": {
  "kernelspec": {
   "display_name": "TensorFlow",
   "language": "python",
   "name": "tensorflow"
  },
  "language_info": {
   "codemirror_mode": {
    "name": "ipython",
    "version": 3
   },
   "file_extension": ".py",
   "mimetype": "text/x-python",
   "name": "python",
   "nbconvert_exporter": "python",
   "pygments_lexer": "ipython3",
   "version": "3.6.2"
  }
 },
 "nbformat": 4,
 "nbformat_minor": 2
}
