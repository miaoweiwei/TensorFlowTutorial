{
 "cells": [
  {
   "cell_type": "markdown",
   "metadata": {},
   "source": [
    "# TensorFlow显示多项式回归\n",
    "上两篇文章中我们讲解了单变量线性回归和多元线性回归的例子，对于非线性的数据分布，用单变量线性回归拟合程度一般，我们来试试多项式回归。\n",
    "\n",
    "前面的步骤还是和上篇一样，后面会添加多个变量来对数据进行拟合。"
   ]
  },
  {
   "cell_type": "code",
   "execution_count": null,
   "metadata": {},
   "outputs": [],
   "source": [
    "%matplotlib inline\n",
    "import numpy as np\n",
    "import tensorflow as tf\n",
    "import matplotlib.pyplot as plt"
   ]
  },
  {
   "cell_type": "markdown",
   "metadata": {},
   "source": [
    "1. 数据准备 "
   ]
  },
  {
   "cell_type": "code",
   "execution_count": null,
   "metadata": {},
   "outputs": [],
   "source": [
    "n_observations = 100\n",
    "xs = np.linspace(-3, 3, n_observations)\n",
    "ys = np.sin(xs) + np.random.uniform(-0.5, 0.5, n_observations)  # 添加给定伽马分布随机的噪声\n",
    "plt.scatter(xs, ys, linewidths=0.01)\n",
    "plt.show()"
   ]
  },
  {
   "cell_type": "markdown",
   "metadata": {},
   "source": [
    "2 . 准备好placeholder,开好容器来装数据"
   ]
  },
  {
   "cell_type": "code",
   "execution_count": null,
   "metadata": {},
   "outputs": [],
   "source": [
    "X = tf.placeholder(tf.float32, name='X')\n",
    "Y = tf.placeholder(tf.float32, name='Y')"
   ]
  },
  {
   "cell_type": "markdown",
   "metadata": {},
   "source": [
    "3. 定义权值和偏执并初始化"
   ]
  },
  {
   "cell_type": "code",
   "execution_count": null,
   "metadata": {},
   "outputs": [],
   "source": [
    "w = tf.Variable(tf.random_normal([1]), name='weight')\n",
    "b = tf.Variable(tf.random_normal([1]), name='bias')"
   ]
  },
  {
   "cell_type": "markdown",
   "metadata": {},
   "source": [
    "4. 计算预测结果"
   ]
  },
  {
   "cell_type": "code",
   "execution_count": null,
   "metadata": {},
   "outputs": [],
   "source": [
    "Y_pred = tf.add(tf.multiply(X, w), b)  # tf.multiply() 对应元素相乘\n",
    "\n",
    "#添加高次项\n",
    "w_2 = tf.Variable(tf.random_normal([1]), name='weight_2')\n",
    "Y_pred = tf.add(tf.multiply(tf.pow(X, 2), w_2), Y_pred)\n",
    "\n",
    "w_3 = tf.Variable(tf.random_normal([1]), name='weight_3')\n",
    "Y_pred = tf.add(tf.multiply(tf.pow(X, 3), w_3), Y_pred)\n",
    "\n",
    "# W_4 = tf.Variable(tf.random_normal([1]),name = 'weight_4')\n",
    "# Y_pred = tf.add(tf.multiply(tf.pow(X,4),W_4), Y_pred)"
   ]
  },
  {
   "cell_type": "markdown",
   "metadata": {},
   "source": [
    "5. 计算损失值"
   ]
  },
  {
   "cell_type": "code",
   "execution_count": null,
   "metadata": {},
   "outputs": [],
   "source": [
    "sample_num = xs.shape[0]  # 取出xs的个数，这个就是前面定义的 n_observations=100\n",
    "loss = tf.reduce_sum(tf.pow(Y_pred - Y, 2)) / sample_num  #向量对应的点相减之后，求平方和，在除以点的个数 （均方差损失函数）"
   ]
  },
  {
   "cell_type": "markdown",
   "metadata": {},
   "source": [
    "6. 初始化optimizer\n",
    "梯度下降函数保持不变，使得loss函数的值取到极小值"
   ]
  },
  {
   "cell_type": "code",
   "execution_count": null,
   "metadata": {},
   "outputs": [],
   "source": [
    "learning_rate = 0.01\n",
    "optimizer = tf.train.GradientDescentOptimizer(learning_rate).minimize(loss)"
   ]
  },
  {
   "cell_type": "markdown",
   "metadata": {},
   "source": [
    "7. 指定迭代次数，并在 session 执行 graph\n",
    "    \n",
    "    ```python\n",
    "    init_op = tf.global_variables_initializer()\n",
    "    sess.run(init_op)\n",
    "    ```\n",
    "    \n",
    "    再次强调！！！此处两句极其重要，需要先初始化变量，才能进行读取和写入（赋值）操作"
   ]
  },
  {
   "cell_type": "code",
   "execution_count": null,
   "metadata": {
    "scrolled": false
   },
   "outputs": [],
   "source": [
    "n_sample = xs.shape[0]\n",
    "loss_total=[]\n",
    "init_op = tf.global_variables_initializer()\n",
    "with tf.Session() as sess:\n",
    "    sess.run(init_op)\n",
    "\n",
    "    for i in range(500):\n",
    "        total_loss = 0\n",
    "        for x, y in zip(xs, ys):\n",
    "            _, l = sess.run([optimizer, loss], feed_dict={X: x, Y: y})\n",
    "            total_loss += l\n",
    "        loss_total.append(total_loss / n_sample)\n",
    "        if (i + 1) % 100 == 0:\n",
    "            print(\"Epoch:{0} loss:{1} W:{2} W_2:{3} W_3:{4} B:{5}\".format(\n",
    "                i + 1, total_loss / n_sample, w.eval(), w_2.eval(), w_3.eval(),\n",
    "                b.eval()))\n",
    "    W, W_2, W_3, B = sess.run([w, w_2, w_3, b])"
   ]
  },
  {
   "cell_type": "code",
   "execution_count": null,
   "metadata": {},
   "outputs": [],
   "source": [
    "plt.plot(loss_total)\n",
    "plt.show()\n",
    "plt.scatter(xs, ys)\n",
    "plt.plot(xs, xs**3 * W_3 + xs**2 * W_2 + xs * W + B, 'r')\n",
    "plt.show()"
   ]
  }
 ],
 "metadata": {
  "kernelspec": {
   "display_name": "Tf-Gpu",
   "language": "python",
   "name": "tfgpu"
  },
  "language_info": {
   "codemirror_mode": {
    "name": "ipython",
    "version": 3
   },
   "file_extension": ".py",
   "mimetype": "text/x-python",
   "name": "python",
   "nbconvert_exporter": "python",
   "pygments_lexer": "ipython3",
   "version": "3.7.0"
  }
 },
 "nbformat": 4,
 "nbformat_minor": 2
}
